{
 "cells": [
  {
   "cell_type": "code",
   "execution_count": 2,
   "metadata": {},
   "outputs": [],
   "source": [
    "import os\n",
    "import random\n",
    "import cv2\n",
    "import mediapipe as mp\n",
    "import numpy as np\n",
    "from sklearn.model_selection import train_test_split\n",
    "from tqdm import tqdm\n",
    "import torch\n",
    "import torch.nn.functional as F"
   ]
  },
  {
   "cell_type": "code",
   "execution_count": 1,
   "metadata": {},
   "outputs": [],
   "source": [
    "# Paths to datasets\n",
    "video_path = '../data/ZJ-videos'\n",
    "alphabet_path = '../data/mnist_asl_alphabet_train'"
   ]
  },
  {
   "cell_type": "code",
   "execution_count": 3,
   "metadata": {},
   "outputs": [],
   "source": [
    "# Set the number of frames to pad to\n",
    "selected_frame_dim = 180  # Example value\n",
    "padding_value = (0, 0, 0)  # Padding value\n",
    "# Target size for resizing frames and images\n",
    "target_size = (224, 224)\n",
    "label_mapping = {'J': 0, 'Z': 1, 'nothing': 3}"
   ]
  },
  {
   "cell_type": "code",
   "execution_count": 4,
   "metadata": {},
   "outputs": [
    {
     "name": "stderr",
     "output_type": "stream",
     "text": [
      "WARNING: All log messages before absl::InitializeLog() is called are written to STDERR\n",
      "I0000 00:00:1721157682.229822  780138 gl_context_egl.cc:85] Successfully initialized EGL. Major : 1 Minor: 5\n",
      "I0000 00:00:1721157682.260647  780207 gl_context.cc:357] GL version: 3.1 (OpenGL ES 3.1 Mesa 23.2.1-1ubuntu3.1~22.04.2), renderer: D3D12 (NVIDIA GeForce RTX 3060)\n"
     ]
    }
   ],
   "source": [
    "# Initialize Mediapipe Hands\n",
    "# Confidence level allows you to adjust the sensitivity of hand detection\n",
    "mp_hands = mp.solutions.hands\n",
    "hands = mp_hands.Hands(static_image_mode=False, max_num_hands=1, min_detection_confidence=0.5)"
   ]
  },
  {
   "cell_type": "code",
   "execution_count": 5,
   "metadata": {},
   "outputs": [
    {
     "name": "stderr",
     "output_type": "stream",
     "text": [
      "INFO: Created TensorFlow Lite XNNPACK delegate for CPU.\n"
     ]
    }
   ],
   "source": [
    "# Augments an image to prevent overfitting\n",
    "# We don't need to resize the images or video frames here, because all we care about are the landmark coordinates given\n",
    "def augment_image(image):\n",
    "    # Random rotation\n",
    "    angle = random.uniform(-15, 15)\n",
    "    height, width = image.shape[:2]\n",
    "    M = cv2.getRotationMatrix2D((width // 2, height // 2), angle, 1)\n",
    "    rotated = cv2.warpAffine(image, M, (width, height))\n",
    "    \n",
    "    # Random horizontal flip\n",
    "    if random.random() > 0.5:\n",
    "        rotated = cv2.flip(rotated, 1)\n",
    "    \n",
    "    # Adding random noise\n",
    "    noise = np.random.normal(0, 0.05, rotated.shape)\n",
    "    noisy_image = np.clip(rotated + noise, 0, 255).astype(np.uint8)\n",
    "    \n",
    "    return noisy_image"
   ]
  },
  {
   "cell_type": "code",
   "execution_count": 6,
   "metadata": {},
   "outputs": [],
   "source": [
    "# Returns list of tuples of videos, with their corresponding label\n",
    "def load_videos(path, label):\n",
    "    video_files = [os.path.join(path, f) for f in os.listdir(path) if f.endswith('.avi')]\n",
    "    video_files.sort()\n",
    "    return [(f, label_mapping[label]) for f in video_files]\n",
    "\n",
    "# Returns list of tuples of images, with their corresponding label\n",
    "def load_images(path, labels):\n",
    "    image_files = []\n",
    "    for label in labels:\n",
    "        files = [os.path.join(path, label, f) for f in os.listdir(os.path.join(path, label)) if f.endswith('.jpg')]\n",
    "        files = random.sample(files, 12)  # Take 12 images per label\n",
    "        image_files.extend([(f, label_mapping['nothing']) for f in files])  # Label all images as 'nothing'\n",
    "    return image_files\n"
   ]
  },
  {
   "cell_type": "code",
   "execution_count": 7,
   "metadata": {},
   "outputs": [],
   "source": [
    "def extract_landmarks_from_video(video_file, target_size=(224, 224)):\n",
    "    cap = cv2.VideoCapture(video_file)\n",
    "    frames = []\n",
    "    while cap.isOpened():\n",
    "        ret, frame = cap.read()\n",
    "        if not ret:\n",
    "            break\n",
    "        frame = cv2.resize(frame, target_size)  # Resize frame\n",
    "        frame = augment_image(frame)  # Apply augmentation\n",
    "        frame_rgb = cv2.cvtColor(frame, cv2.COLOR_BGR2RGB)\n",
    "        results = hands.process(frame_rgb)\n",
    "        if results.multi_hand_landmarks:\n",
    "            for hand_landmarks in results.multi_hand_landmarks:\n",
    "                frame_landmarks = [[lm.x, lm.y, lm.z] for lm in hand_landmarks.landmark]\n",
    "                frames.append(frame_landmarks)\n",
    "        else:\n",
    "            frames.append([[0, 0, 0]] * 21)  # If no hand detected, append zero landmarks\n",
    "    cap.release()\n",
    "    if len(frames) == 0:\n",
    "        return None\n",
    "    return frames\n",
    "\n",
    "def extract_landmarks_from_image(image_file, target_size=(224, 224)):\n",
    "    image = cv2.imread(image_file)\n",
    "    if image is None:\n",
    "        return None\n",
    "    image = cv2.resize(image, target_size)  # Resize image\n",
    "    augmented_image = augment_image(image)  # Apply augmentation\n",
    "    image_rgb = cv2.cvtColor(augmented_image, cv2.COLOR_BGR2RGB)\n",
    "    results = hands.process(image_rgb)\n",
    "    if results.multi_hand_landmarks:\n",
    "        for hand_landmarks in results.multi_hand_landmarks:\n",
    "            return [[lm.x, lm.y, lm.z] for lm in hand_landmarks.landmark]\n",
    "    return [[0, 0, 0]] * 21  # If no hand detected, return zero landmarks\n"
   ]
  },
  {
   "cell_type": "code",
   "execution_count": 8,
   "metadata": {},
   "outputs": [],
   "source": [
    "def pad_sequence(sequence, target_length, padding_value):\n",
    "    while len(sequence) < target_length:\n",
    "        sequence.append([padding_value] * 21)\n",
    "    return sequence[:target_length]"
   ]
  },
  {
   "cell_type": "code",
   "execution_count": 9,
   "metadata": {},
   "outputs": [],
   "source": [
    "def process_videos(video_files):\n",
    "    data = []\n",
    "    labels = []\n",
    "    for video_file, label in tqdm(video_files, desc='Processing videos'):\n",
    "        landmarks = extract_landmarks_from_video(video_file)\n",
    "        if landmarks:\n",
    "            padded_landmarks = pad_sequence(landmarks, selected_frame_dim, padding_value)\n",
    "            data.append(padded_landmarks)\n",
    "            labels.append(label)\n",
    "    return torch.tensor(data, dtype=torch.float32), torch.tensor(labels, dtype=torch.int64)\n",
    "\n",
    "def process_images(image_files):\n",
    "    data = []\n",
    "    labels = []\n",
    "    for image_file, label in tqdm(image_files, desc='Processing images'):\n",
    "        landmarks = extract_landmarks_from_image(image_file)\n",
    "        padded_landmarks = pad_sequence([landmarks], selected_frame_dim, padding_value)\n",
    "        data.append(padded_landmarks)\n",
    "        labels.append(label)\n",
    "    return torch.tensor(data, dtype=torch.float32), torch.tensor(labels, dtype=torch.int64)"
   ]
  },
  {
   "cell_type": "code",
   "execution_count": 10,
   "metadata": {},
   "outputs": [
    {
     "ename": "NameError",
     "evalue": "name 'train_videos' is not defined",
     "output_type": "error",
     "traceback": [
      "\u001b[0;31m---------------------------------------------------------------------------\u001b[0m",
      "\u001b[0;31mNameError\u001b[0m                                 Traceback (most recent call last)",
      "Cell \u001b[0;32mIn[10], line 1\u001b[0m\n\u001b[0;32m----> 1\u001b[0m \u001b[38;5;28mlen\u001b[39m(\u001b[43mtrain_videos\u001b[49m)\n",
      "\u001b[0;31mNameError\u001b[0m: name 'train_videos' is not defined"
     ]
    }
   ],
   "source": [
    "len(train_videos)"
   ]
  },
  {
   "cell_type": "code",
   "execution_count": null,
   "metadata": {},
   "outputs": [],
   "source": []
  },
  {
   "cell_type": "code",
   "execution_count": null,
   "metadata": {},
   "outputs": [],
   "source": []
  },
  {
   "cell_type": "code",
   "execution_count": null,
   "metadata": {},
   "outputs": [],
   "source": []
  },
  {
   "cell_type": "code",
   "execution_count": 11,
   "metadata": {},
   "outputs": [],
   "source": [
    "video_files = load_videos(os.path.join(video_path, 'j'), 'J') + load_videos(os.path.join(video_path, 'z'), 'Z')\n",
    "image_files = load_images(alphabet_path, list('ABCDEFGHIJKLMNOPQRSTUVWXYZ'))\n",
    "\n",
    "train_videos, val_videos = train_test_split(video_files, test_size=0.2, random_state=42)\n",
    "train_images, val_images = train_test_split(image_files, test_size=0.2, random_state=42)"
   ]
  },
  {
   "cell_type": "code",
   "execution_count": 12,
   "metadata": {},
   "outputs": [
    {
     "name": "stderr",
     "output_type": "stream",
     "text": [
      "Processing videos:   1%|▌                                                               | 5/569 [00:09<17:52,  1.90s/it][mjpeg @ 0x87a30c0] overread 8\n",
      "Processing videos:   1%|▉                                                               | 8/569 [00:13<15:44,  1.68s/it][mjpeg @ 0x89c9800] overread 8\n",
      "Processing videos:   2%|█▎                                                             | 12/569 [00:19<14:50,  1.60s/it][mjpeg @ 0x87a0500] overread 8\n",
      "Processing videos:   2%|█▌                                                             | 14/569 [00:22<14:05,  1.52s/it][mjpeg @ 0x87a3300] overread 8\n",
      "Processing videos:   5%|███▏                                                           | 29/569 [00:50<16:55,  1.88s/it][mjpeg @ 0x87400c0] overread 8\n",
      "Processing videos:   5%|███▍                                                           | 31/569 [00:52<14:28,  1.61s/it][mjpeg @ 0x895ba00] overread 8\n",
      "Processing videos:   7%|████                                                           | 37/569 [01:03<16:48,  1.90s/it][mjpeg @ 0x87d5c80] overread 8\n",
      "Processing videos:   7%|████▎                                                          | 39/569 [01:05<14:25,  1.63s/it][mjpeg @ 0x89c4900] overread 8\n",
      "Processing videos:   7%|████▍                                                          | 40/569 [01:06<12:20,  1.40s/it][mjpeg @ 0x700bec0] overread 8\n",
      "Processing videos:   8%|████▉                                                          | 45/569 [01:15<16:41,  1.91s/it][mjpeg @ 0x879db80] overread 8\n",
      "Processing videos:   9%|█████▌                                                         | 50/569 [01:23<15:13,  1.76s/it][mjpeg @ 0x8780740] overread 8\n",
      "Processing videos:  10%|██████                                                         | 55/569 [01:32<15:41,  1.83s/it][mjpeg @ 0x8a49b80] overread 8\n",
      "Processing videos:  10%|██████▎                                                        | 57/569 [01:35<14:00,  1.64s/it][mjpeg @ 0x879e6c0] overread 1\n",
      "Processing videos:  10%|██████▍                                                        | 58/569 [01:35<11:45,  1.38s/it][mjpeg @ 0x8a45240] overread 3\n",
      "Processing videos:  12%|███████▎                                                       | 66/569 [01:52<20:53,  2.49s/it][mjpeg @ 0x87744c0] overread 3\n",
      "Processing videos:  12%|███████▊                                                       | 70/569 [02:02<21:42,  2.61s/it][mjpeg @ 0x8760a40] overread 8\n",
      "Processing videos:  15%|█████████▋                                                     | 87/569 [02:33<14:33,  1.81s/it][mjpeg @ 0x8782340] overread 8\n",
      "Processing videos:  17%|██████████▊                                                    | 98/569 [02:56<16:00,  2.04s/it][mjpeg @ 0x87d2b00] overread 8\n",
      "Processing videos:  18%|██████████▉                                                   | 100/569 [02:58<14:07,  1.81s/it][mjpeg @ 0x8739400] overread 8\n",
      "Processing videos:  21%|█████████████                                                 | 120/569 [03:43<16:20,  2.18s/it][mjpeg @ 0x873e4c0] overread 8\n",
      "Processing videos:  21%|█████████████▏                                                | 121/569 [03:44<13:50,  1.85s/it][mjpeg @ 0x883ea40] overread 8\n",
      "Processing videos:  22%|█████████████▉                                                | 128/569 [03:58<14:48,  2.02s/it][mjpeg @ 0x873e4c0] overread 7\n",
      "Processing videos:  23%|██████████████▏                                               | 130/569 [04:00<12:47,  1.75s/it][mjpeg @ 0x700cc00] overread 8\n",
      "Processing videos:  23%|██████████████▍                                               | 133/569 [04:05<12:56,  1.78s/it][mjpeg @ 0x8737c40] overread 8\n",
      "Processing videos:  24%|██████████████▊                                               | 136/569 [04:11<13:29,  1.87s/it][mjpeg @ 0x87d2b00] overread 8\n",
      "Processing videos:  24%|███████████████▏                                              | 139/569 [04:17<15:11,  2.12s/it][mjpeg @ 0x87e2400] overread 8\n",
      "Processing videos:  25%|███████████████▌                                              | 143/569 [04:24<14:01,  1.97s/it][mjpeg @ 0x88b4ac0] overread 8\n",
      "Processing videos:  25%|███████████████▊                                              | 145/569 [04:27<13:32,  1.92s/it][mjpeg @ 0x88b4ac0] overread 8\n",
      "Processing videos:  29%|██████████████████▏                                           | 167/569 [05:13<13:18,  1.99s/it][mjpeg @ 0x89c5400] overread 8\n",
      "Processing videos:  31%|███████████████████▍                                          | 178/569 [05:39<15:42,  2.41s/it][mjpeg @ 0x8a34740] overread 8\n",
      "Processing videos:  32%|███████████████████▋                                          | 181/569 [05:44<13:26,  2.08s/it][mjpeg @ 0x87d2b00] overread 5\n",
      "Processing videos:  33%|████████████████████▎                                         | 186/569 [05:52<11:46,  1.84s/it][mjpeg @ 0x898d6c0] overread 8\n",
      "Processing videos:  33%|████████████████████▌                                         | 189/569 [05:57<11:26,  1.81s/it][mjpeg @ 0x8a34740] overread 6\n",
      "Processing videos:  34%|████████████████████▉                                         | 192/569 [06:03<12:08,  1.93s/it][mjpeg @ 0x87d2b00] overread 8\n",
      "Processing videos:  35%|█████████████████████▌                                        | 198/569 [06:15<13:04,  2.11s/it][mjpeg @ 0x88b3a40] overread 4\n",
      "Processing videos:  35%|█████████████████████▉                                        | 201/569 [06:20<11:40,  1.90s/it][mjpeg @ 0x898d6c0] overread 8\n",
      "Processing videos:  36%|██████████████████████▍                                       | 206/569 [06:29<11:46,  1.95s/it][mjpeg @ 0x8a34740] overread 8\n",
      "Processing videos:  37%|██████████████████████▊                                       | 209/569 [06:34<11:05,  1.85s/it][mjpeg @ 0x8a37fc0] overread 8\n",
      "Processing videos:  37%|██████████████████████▉                                       | 211/569 [06:37<10:12,  1.71s/it][mjpeg @ 0x8a37fc0] overread 8\n",
      "Processing videos:  38%|███████████████████████▎                                      | 214/569 [06:42<10:23,  1.76s/it][mjpeg @ 0x88b4580] overread 8\n",
      "Processing videos:  38%|███████████████████████▍                                      | 215/569 [06:42<08:41,  1.47s/it][mjpeg @ 0x872cb00] overread 8\n",
      "Processing videos:  39%|███████████████████████▉                                      | 220/569 [06:51<10:14,  1.76s/it][mjpeg @ 0x8a215c0] overread 8\n",
      "Processing videos:  41%|█████████████████████████▎                                    | 232/569 [07:15<12:35,  2.24s/it][mjpeg @ 0x872cb00] overread 8\n",
      "Processing videos:  42%|█████████████████████████▉                                    | 238/569 [07:25<10:08,  1.84s/it][mjpeg @ 0x898d6c0] overread 8\n",
      "Processing videos:  43%|██████████████████████████▌                                   | 244/569 [07:35<10:19,  1.91s/it][mjpeg @ 0x8738f40] overread 8\n",
      "Processing videos:  44%|███████████████████████████▎                                  | 251/569 [07:49<10:43,  2.02s/it][mjpeg @ 0x8760a40] overread 5\n",
      "Processing videos:  44%|███████████████████████████▍                                  | 252/569 [07:49<08:35,  1.63s/it][mjpeg @ 0x8a20900] overread 8\n",
      "Processing videos:  45%|███████████████████████████▋                                  | 254/569 [07:52<08:22,  1.59s/it][mjpeg @ 0x898d6c0] overread 6\n",
      "Processing videos:  45%|███████████████████████████▊                                  | 255/569 [07:53<06:56,  1.33s/it][mjpeg @ 0x8747540] overread 8\n",
      "Processing videos:  45%|███████████████████████████▉                                  | 256/569 [07:54<05:56,  1.14s/it][mjpeg @ 0x8747540] overread 8\n",
      "Processing videos:  46%|████████████████████████████▏                                 | 259/569 [07:59<08:01,  1.55s/it][mjpeg @ 0x898d6c0] overread 4\n",
      "Processing videos:  46%|████████████████████████████▎                                 | 260/569 [07:59<06:36,  1.28s/it][mjpeg @ 0x8747540] overread 6\n",
      "Processing videos:  48%|█████████████████████████████▉                                | 275/569 [08:32<10:40,  2.18s/it][mjpeg @ 0x8732a00] overread 8\n",
      "Processing videos:  50%|██████████████████████████████▊                               | 283/569 [08:44<06:57,  1.46s/it][mjpeg @ 0x873cd40] overread 8\n",
      "Processing videos:  51%|███████████████████████████████▍                              | 288/569 [08:52<08:32,  1.82s/it][mjpeg @ 0x87dbb00] overread 8\n",
      "Processing videos:  52%|████████████████████████████████▏                             | 295/569 [09:06<09:32,  2.09s/it][mjpeg @ 0x87f88c0] overread 8\n",
      "Processing videos:  52%|████████████████████████████████▎                             | 297/569 [09:08<08:08,  1.80s/it][mjpeg @ 0x887b200] overread 7\n",
      "Processing videos:  53%|████████████████████████████████▋                             | 300/569 [09:14<08:53,  1.98s/it][mjpeg @ 0x898d6c0] overread 8\n",
      "Processing videos:  55%|█████████████████████████████████▉                            | 312/569 [09:37<08:35,  2.01s/it][mjpeg @ 0x87f88c0] overread 8\n",
      "Processing videos:  55%|██████████████████████████████████                            | 313/569 [09:38<07:32,  1.77s/it][mjpeg @ 0x87d2b00] overread 8\n",
      "Processing videos:  56%|██████████████████████████████████▌                           | 317/569 [09:45<07:17,  1.74s/it][mjpeg @ 0x8747540] overread 5\n",
      "Processing videos:  56%|██████████████████████████████████▊                           | 320/569 [09:49<06:48,  1.64s/it][mjpeg @ 0x87dbb00] overread 8\n",
      "Processing videos:  57%|███████████████████████████████████                           | 322/569 [09:52<06:29,  1.58s/it][mjpeg @ 0x8747540] overread 8\n",
      "Processing videos:  58%|████████████████████████████████████▏                         | 332/569 [10:12<08:09,  2.07s/it][mjpeg @ 0x87d2b00] overread 8\n",
      "Processing videos:  59%|████████████████████████████████████▌                         | 336/569 [10:19<07:13,  1.86s/it][mjpeg @ 0x8747540] overread 8\n",
      "Processing videos:  60%|████████████████████████████████████▉                         | 339/569 [10:24<06:50,  1.78s/it][mjpeg @ 0x87d2b00] overread 5\n",
      "Processing videos:  62%|██████████████████████████████████████▎                       | 352/569 [10:50<07:05,  1.96s/it][mjpeg @ 0x883c0c0] overread 3\n",
      "Processing videos:  63%|███████████████████████████████████████▏                      | 360/569 [11:06<07:32,  2.17s/it][mjpeg @ 0x8747540] overread 8\n",
      "Processing videos:  65%|████████████████████████████████████████                      | 368/569 [11:21<06:30,  1.94s/it][mjpeg @ 0x8a24b80] overread 8\n",
      "Processing videos:  65%|████████████████████████████████████████▏                     | 369/569 [11:22<05:20,  1.60s/it][mjpeg @ 0x8a24b80] overread 1\n",
      "Processing videos:  66%|████████████████████████████████████████▊                     | 374/569 [11:31<06:21,  1.96s/it][mjpeg @ 0x8a24b80] overread 8\n",
      "Processing videos:  66%|█████████████████████████████████████████▏                    | 378/569 [11:37<05:48,  1.82s/it][mjpeg @ 0x88ab0c0] overread 5\n",
      "Processing videos:  67%|█████████████████████████████████████████▌                    | 381/569 [11:42<05:16,  1.69s/it][mjpeg @ 0x881dd00] overread 8\n",
      "Processing videos:  67%|█████████████████████████████████████████▊                    | 384/569 [11:46<04:41,  1.52s/it][mjpeg @ 0x883c0c0] overread 8\n",
      "Processing videos:  69%|██████████████████████████████████████████▋                   | 392/569 [12:00<05:25,  1.84s/it][mjpeg @ 0x8a24b80] overread 8\n",
      "Processing videos:  69%|███████████████████████████████████████████                   | 395/569 [12:04<05:01,  1.73s/it][mjpeg @ 0x88ab0c0] overread 4\n",
      "Processing videos:  70%|███████████████████████████████████████████▎                  | 397/569 [12:07<04:35,  1.60s/it][mjpeg @ 0x88ab0c0] overread 8\n",
      "Processing videos:  70%|███████████████████████████████████████████▌                  | 400/569 [12:12<04:36,  1.64s/it][mjpeg @ 0x899fec0] overread 8\n",
      "Processing videos:  72%|████████████████████████████████████████████▋                 | 410/569 [12:32<05:43,  2.16s/it][mjpeg @ 0x88b3e00] overread 8\n",
      "Processing videos:  72%|████████████████████████████████████████████▊                 | 411/569 [12:33<04:39,  1.77s/it][mjpeg @ 0x8a10400] overread 8\n",
      "Processing videos:  74%|█████████████████████████████████████████████▊                | 420/569 [12:53<05:41,  2.29s/it][mjpeg @ 0x898c9c0] overread 8\n",
      "Processing videos:  74%|█████████████████████████████████████████████▉                | 422/569 [12:57<05:30,  2.25s/it][mjpeg @ 0x883c0c0] overread 8\n",
      "Processing videos:  75%|██████████████████████████████████████████████▏               | 424/569 [13:00<04:55,  2.04s/it][mjpeg @ 0x8a10400] overread 8\n",
      "Processing videos:  75%|██████████████████████████████████████████████▍               | 426/569 [13:04<04:48,  2.02s/it][mjpeg @ 0x877de80] overread 5\n",
      "Processing videos:  77%|███████████████████████████████████████████████▌              | 436/569 [13:22<04:14,  1.91s/it][mjpeg @ 0x8a10400] overread 6\n",
      "Processing videos:  77%|███████████████████████████████████████████████▊              | 439/569 [13:28<04:25,  2.04s/it][mjpeg @ 0x89108c0] overread 8\n",
      "Processing videos:  79%|█████████████████████████████████████████████████▏            | 451/569 [13:51<03:57,  2.01s/it][mjpeg @ 0x873cd40] overread 8\n",
      "Processing videos:  82%|██████████████████████████████████████████████████▋           | 465/569 [14:18<03:24,  1.97s/it][mjpeg @ 0x8a10400] overread 8\n",
      "Processing videos:  83%|███████████████████████████████████████████████████▌          | 473/569 [14:33<03:25,  2.14s/it][mjpeg @ 0x8bd5400] overread 4\n",
      "Processing videos:  84%|████████████████████████████████████████████████████▏         | 479/569 [14:45<02:52,  1.92s/it][mjpeg @ 0x87f6e00] overread 8\n",
      "Processing videos:  85%|████████████████████████████████████████████████████▍         | 481/569 [14:49<02:58,  2.03s/it][mjpeg @ 0x8a10400] overread 8\n",
      "Processing videos:  85%|████████████████████████████████████████████████████▌         | 482/569 [14:50<02:30,  1.73s/it][mjpeg @ 0x8a10400] overread 8\n",
      "Processing videos:  85%|████████████████████████████████████████████████████▊         | 485/569 [14:55<02:40,  1.91s/it][mjpeg @ 0x8a10400] overread 1\n",
      "Processing videos:  86%|█████████████████████████████████████████████████████         | 487/569 [14:59<02:30,  1.84s/it][mjpeg @ 0x8a10400] overread 8\n",
      "Processing videos:  86%|█████████████████████████████████████████████████████▌        | 491/569 [15:06<02:33,  1.97s/it][mjpeg @ 0x8a10400] overread 8\n",
      "Processing videos:  87%|█████████████████████████████████████████████████████▊        | 494/569 [15:12<02:34,  2.06s/it][mjpeg @ 0x89fdac0] overread 8\n",
      "Processing videos:  87%|██████████████████████████████████████████████████████        | 496/569 [15:16<02:32,  2.09s/it][mjpeg @ 0x89fdac0] overread 8\n",
      "Processing videos:  89%|██████████████████████████████████████████████████████▉       | 504/569 [15:32<02:05,  1.92s/it][mjpeg @ 0x89fdac0] overread 8\n",
      "Processing videos:  89%|███████████████████████████████████████████████████████       | 505/569 [15:32<01:40,  1.57s/it][mjpeg @ 0x88b0e80] overread 8\n",
      "Processing videos:  89%|███████████████████████████████████████████████████████▏      | 507/569 [15:35<01:28,  1.43s/it][mjpeg @ 0x88b0e80] overread 8\n",
      "Processing videos:  89%|███████████████████████████████████████████████████████▎      | 508/569 [15:36<01:16,  1.25s/it][mjpeg @ 0x89fdac0] overread 8\n",
      "Processing videos:  90%|███████████████████████████████████████████████████████▌      | 510/569 [15:39<01:24,  1.43s/it][mjpeg @ 0x8bd1700] overread 8\n",
      "Processing videos:  90%|████████████████████████████████████████████████████████      | 514/569 [15:45<01:31,  1.67s/it][mjpeg @ 0x8bd1700] overread 8\n",
      "Processing videos:  92%|█████████████████████████████████████████████████████████▏    | 525/569 [16:07<01:32,  2.10s/it][mjpeg @ 0x8958ac0] overread 1\n",
      "Processing videos:  95%|███████████████████████████████████████████████████████████   | 542/569 [16:41<00:54,  2.01s/it][mjpeg @ 0x8bc1500] overread 8\n",
      "Processing videos:  96%|███████████████████████████████████████████████████████████▎  | 544/569 [16:44<00:44,  1.78s/it][mjpeg @ 0x8bc1500] overread 5\n",
      "Processing videos:  97%|███████████████████████████████████████████████████████████▉  | 550/569 [16:57<00:41,  2.17s/it][mjpeg @ 0x8bc1500] overread 8\n",
      "Processing videos:  97%|████████████████████████████████████████████████████████████▏ | 552/569 [16:59<00:30,  1.78s/it][mjpeg @ 0x8bc1500] overread 8\n",
      "Processing videos:  97%|████████████████████████████████████████████████████████████▎ | 554/569 [17:01<00:22,  1.51s/it][mjpeg @ 0x8bc1500] overread 8\n",
      "Processing videos: 100%|██████████████████████████████████████████████████████████████| 569/569 [17:29<00:00,  1.84s/it]\n",
      "Processing videos:   1%|▍                                                               | 1/143 [00:01<04:32,  1.92s/it][mjpeg @ 0x8747540] overread 8\n",
      "Processing videos:   6%|████                                                            | 9/143 [00:16<04:08,  1.85s/it][mjpeg @ 0x87a1900] overread 8\n",
      "Processing videos:  16%|██████████▏                                                    | 23/143 [00:40<04:09,  2.08s/it][mjpeg @ 0x873ed40] overread 4\n",
      "Processing videos:  17%|███████████                                                    | 25/143 [00:43<03:23,  1.73s/it][mjpeg @ 0x8833840] overread 8\n",
      "Processing videos:  29%|██████████████████▌                                            | 42/143 [01:15<03:30,  2.08s/it][mjpeg @ 0x87e2580] overread 8\n",
      "Processing videos:  37%|███████████████████████▎                                       | 53/143 [01:38<02:59,  1.99s/it][mjpeg @ 0x88c5bc0] overread 8\n",
      "Processing videos:  38%|███████████████████████▊                                       | 54/143 [01:38<02:25,  1.63s/it][mjpeg @ 0x8841280] overread 8\n",
      "Processing videos:  40%|█████████████████████████                                      | 57/143 [01:43<02:26,  1.71s/it][mjpeg @ 0x8840dc0] overread 8\n",
      "Processing videos:  50%|███████████████████████████████▋                               | 72/143 [02:12<02:22,  2.00s/it][mjpeg @ 0x89d7700] overread 8\n",
      "Processing videos:  56%|███████████████████████████████████▏                           | 80/143 [02:27<02:16,  2.16s/it][mjpeg @ 0x87e2580] overread 8\n",
      "Processing videos:  60%|█████████████████████████████████████▉                         | 86/143 [02:38<01:49,  1.92s/it][mjpeg @ 0x879ad40] overread 8\n",
      "Processing videos:  64%|████████████████████████████████████████                       | 91/143 [02:47<01:36,  1.86s/it][mjpeg @ 0x88fd580] overread 8\n",
      "Processing videos:  68%|██████████████████████████████████████████▋                    | 97/143 [02:57<01:26,  1.88s/it][mjpeg @ 0x89c9180] overread 5\n",
      "Processing videos:  69%|███████████████████████████████████████████▏                   | 98/143 [02:58<01:07,  1.49s/it][mjpeg @ 0x8804680] overread 8\n",
      "Processing videos:  69%|███████████████████████████████████████████▌                   | 99/143 [02:59<00:54,  1.24s/it][mjpeg @ 0x8a24140] overread 8\n",
      "Processing videos:  79%|████████████████████████████████████████████████▉             | 113/143 [03:27<01:05,  2.17s/it][mjpeg @ 0x8a1edc0] overread 6\n",
      "Processing videos:  86%|█████████████████████████████████████████████████████▎        | 123/143 [03:44<00:35,  1.76s/it][mjpeg @ 0x87f1440] overread 8\n",
      "Processing videos:  89%|███████████████████████████████████████████████████████       | 127/143 [03:51<00:28,  1.78s/it][mjpeg @ 0x8a24140] overread 8\n",
      "Processing videos:  95%|██████████████████████████████████████████████████████████▉   | 136/143 [04:05<00:12,  1.80s/it][mjpeg @ 0x8a1edc0] overread 8\n",
      "Processing videos: 100%|██████████████████████████████████████████████████████████████| 143/143 [04:17<00:00,  1.80s/it]\n",
      "Processing images: 100%|██████████████████████████████████████████████████████████████| 249/249 [00:05<00:00, 46.06it/s]\n",
      "Processing images: 100%|████████████████████████████████████████████████████████████████| 63/63 [00:01<00:00, 46.92it/s]\n"
     ]
    }
   ],
   "source": [
    "train_video_data, train_video_labels = process_videos(train_videos)\n",
    "val_video_data, val_video_labels = process_videos(val_videos)\n",
    "train_image_data, train_image_labels = process_images(train_images)\n",
    "val_image_data, val_image_labels = process_images(val_images)\n",
    "\n",
    "train_data = torch.cat((train_video_data, train_image_data), dim=0)\n",
    "train_labels = torch.cat((train_video_labels, train_image_labels), dim=0)\n",
    "val_data = torch.cat((val_video_data, val_image_data), dim=0)\n",
    "val_labels = torch.cat((val_video_labels, val_image_labels), dim=0)\n",
    "\n",
    "torch.save((train_data, train_labels), 'train_data.pt')\n",
    "torch.save((val_data, val_labels), 'val_data.pt')"
   ]
  },
  {
   "cell_type": "code",
   "execution_count": null,
   "metadata": {},
   "outputs": [],
   "source": [
    "def load_data(filename):\n",
    "    return torch.load(filename)\n",
    "\n",
    "# Load data\n",
    "train_data, train_labels = load_data('train_data.pt')\n",
    "val_data, val_labels = load_data('val_data.pt')\n"
   ]
  }
 ],
 "metadata": {
  "kaggle": {
   "accelerator": "gpu",
   "dataSources": [
    {
     "datasetId": 23079,
     "sourceId": 29550,
     "sourceType": "datasetVersion"
    },
    {
     "datasetId": 3428198,
     "sourceId": 5980815,
     "sourceType": "datasetVersion"
    }
   ],
   "dockerImageVersionId": 30747,
   "isGpuEnabled": true,
   "isInternetEnabled": true,
   "language": "python",
   "sourceType": "notebook"
  },
  "kernelspec": {
   "display_name": "Python (deep-learning)",
   "language": "python",
   "name": "deep-learning"
  },
  "language_info": {
   "codemirror_mode": {
    "name": "ipython",
    "version": 3
   },
   "file_extension": ".py",
   "mimetype": "text/x-python",
   "name": "python",
   "nbconvert_exporter": "python",
   "pygments_lexer": "ipython3",
   "version": "3.8.19"
  }
 },
 "nbformat": 4,
 "nbformat_minor": 4
}
