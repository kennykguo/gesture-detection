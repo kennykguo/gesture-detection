{
 "cells": [
  {
   "cell_type": "code",
   "execution_count": 160,
   "metadata": {
    "execution": {
     "iopub.execute_input": "2023-09-21T05:56:16.931682Z",
     "iopub.status.busy": "2023-09-21T05:56:16.930939Z",
     "iopub.status.idle": "2023-09-21T05:56:16.970589Z",
     "shell.execute_reply": "2023-09-21T05:56:16.969484Z",
     "shell.execute_reply.started": "2023-09-21T05:56:16.931645Z"
    }
   },
   "outputs": [
    {
     "data": {
      "text/plain": [
       "(659, 698, 3)"
      ]
     },
     "execution_count": 160,
     "metadata": {},
     "output_type": "execute_result"
    }
   ],
   "source": [
    "image_path = \"/kaggle/input/signofletter/i1.PNG\"\n",
    "image = cv2.imread(image_path)\n",
    "h, w, c = image.shape\n",
    "# image = cv2.resize(image, (28, 28))\n",
    "# analysisframe = image[0:500, 100:350]\n",
    "# # Convert the image to grayscale\n",
    "# # plt.imshow(image)\n",
    "# analysisframe = cv2.cvtColor(analysisframe, cv2.COLOR_BGR2GRAY)\n",
    "# plt.show(analysisframe)\n",
    "# plt.title(\"Example Image\")\n",
    "# plt.show()\n",
    "h,w,c"
   ]
  },
  {
   "cell_type": "code",
   "execution_count": 162,
   "metadata": {
    "execution": {
     "iopub.execute_input": "2023-09-21T05:56:24.351215Z",
     "iopub.status.busy": "2023-09-21T05:56:24.350848Z",
     "iopub.status.idle": "2023-09-21T05:56:24.367252Z",
     "shell.execute_reply": "2023-09-21T05:56:24.364678Z",
     "shell.execute_reply.started": "2023-09-21T05:56:24.351185Z"
    }
   },
   "outputs": [],
   "source": [
    "mphands = mp.solutions.hands\n",
    "hands = mphands.Hands()\n",
    "mp_drawing = mp.solutions.drawing_utils"
   ]
  },
  {
   "cell_type": "code",
   "execution_count": 168,
   "metadata": {
    "execution": {
     "iopub.execute_input": "2023-09-21T05:57:27.828395Z",
     "iopub.status.busy": "2023-09-21T05:57:27.827929Z",
     "iopub.status.idle": "2023-09-21T05:57:27.879919Z",
     "shell.execute_reply": "2023-09-21T05:57:27.878698Z",
     "shell.execute_reply.started": "2023-09-21T05:57:27.828359Z"
    }
   },
   "outputs": [
    {
     "name": "stdout",
     "output_type": "stream",
     "text": [
      "Success\n"
     ]
    }
   ],
   "source": [
    "analysisframe = ''\n",
    "framergbanalysis = cv2.cvtColor(image, cv2.COLOR_BGR2RGB)\n",
    "resultanalysis = hands.process(framergbanalysis)\n",
    "hand_landmarksanalysis = resultanalysis.multi_hand_landmarks\n",
    "# print(hand_landmarksanalysis)\n",
    "if hand_landmarksanalysis:\n",
    "    print('Success')\n",
    "    for handLMsanalysis in hand_landmarksanalysis:\n",
    "        x_max = 0\n",
    "        y_max = 0\n",
    "        x_min = w\n",
    "        y_min = h\n",
    "        # creating the bounding box\n",
    "        for lmanalysis in handLMsanalysis.landmark:\n",
    "            x, y = int(lmanalysis.x * w), int(lmanalysis.y * h)  # this is to scale back the coordinates into pixel form(initially it is been normalized in range(0,1))\n",
    "            if x > x_max:\n",
    "                x_max = x\n",
    "            if x < x_min:\n",
    "                x_min = x\n",
    "            if y > y_max:\n",
    "                y_max = y\n",
    "            if y < y_min:\n",
    "                y_min = y\n",
    "        y_min -= 50\n",
    "        y_max += 50\n",
    "        x_min -= 50\n",
    "        x_max += 50 \n",
    "\n",
    "        analysisframe = cv2.cvtColor(image, cv2.COLOR_BGR2GRAY)\n",
    "        analysisframe = analysisframe[y_min:y_max, x_min:x_max]\n",
    "        analysisframe = cv2.resize(analysisframe,(28,28))"
   ]
  },
  {
   "cell_type": "code",
   "execution_count": 169,
   "metadata": {
    "execution": {
     "iopub.execute_input": "2023-09-21T05:57:30.483282Z",
     "iopub.status.busy": "2023-09-21T05:57:30.482873Z",
     "iopub.status.idle": "2023-09-21T05:57:30.769206Z",
     "shell.execute_reply": "2023-09-21T05:57:30.768172Z",
     "shell.execute_reply.started": "2023-09-21T05:57:30.483250Z"
    }
   },
   "outputs": [
    {
     "data": {
      "image/png": "[encoded data removed]",
      "text/plain": [
       "<Figure size 640x480 with 1 Axes>"
      ]
     },
     "metadata": {},
     "output_type": "display_data"
    }
   ],
   "source": [
    "if analysisframe.size > 0:\n",
    "    plt.imshow(analysisframe, cmap='gray')\n",
    "    plt.title(\"Example Image\")\n",
    "    plt.show()"
   ]
  },
  {
   "cell_type": "code",
   "execution_count": 170,
   "metadata": {
    "execution": {
     "iopub.execute_input": "2023-09-21T05:57:37.082251Z",
     "iopub.status.busy": "2023-09-21T05:57:37.079470Z",
     "iopub.status.idle": "2023-09-21T05:57:37.088407Z",
     "shell.execute_reply": "2023-09-21T05:57:37.087342Z",
     "shell.execute_reply.started": "2023-09-21T05:57:37.082213Z"
    }
   },
   "outputs": [
    {
     "name": "stdout",
     "output_type": "stream",
     "text": [
      "(28, 28)\n",
      "(784,)\n"
     ]
    }
   ],
   "source": [
    "print(analysisframe.shape)\n",
    "datan = analysisframe.flatten()\n",
    "print(datan.shape)"
   ]
  },
  {
   "cell_type": "code",
   "execution_count": 171,
   "metadata": {
    "execution": {
     "iopub.execute_input": "2023-09-21T05:57:39.605392Z",
     "iopub.status.busy": "2023-09-21T05:57:39.604189Z",
     "iopub.status.idle": "2023-09-21T05:57:39.614308Z",
     "shell.execute_reply": "2023-09-21T05:57:39.612914Z",
     "shell.execute_reply.started": "2023-09-21T05:57:39.605347Z"
    }
   },
   "outputs": [],
   "source": [
    "datan = datan/255\n",
    "# datan"
   ]
  },
  {
   "cell_type": "code",
   "execution_count": 40,
   "metadata": {
    "execution": {
     "iopub.execute_input": "2023-09-21T05:02:03.364145Z",
     "iopub.status.busy": "2023-09-21T05:02:03.363711Z",
     "iopub.status.idle": "2023-09-21T05:02:03.371737Z",
     "shell.execute_reply": "2023-09-21T05:02:03.370310Z",
     "shell.execute_reply.started": "2023-09-21T05:02:03.364111Z"
    }
   },
   "outputs": [],
   "source": [
    "\n",
    "# nlist = []\n",
    "# rows,cols = analysisframe.shape\n",
    "# for i in range(rows):\n",
    "#     for j in range(cols):\n",
    "#         k = analysisframe[i,j]\n",
    "#         nlist.append(k)\n",
    "\n",
    "# datan = pd.DataFrame(nlist).T\n",
    "# colname = []\n",
    "# for val in range(784):\n",
    "#     colname.append(val)\n",
    "# datan.columns = colname\n",
    "\n",
    "# pixeldata = datan.values\n",
    "# pixeldata = pixeldata / 255\n",
    "# pixeldata = pixeldata.reshape(-1,28,28,1)\n",
    "\n",
    "# image = cv2.cvtColor(image, cv2.COLOR_BGR2GRAY)\n",
    "# image_reshape = cv2.resize(image,(28,28))\n"
   ]
  },
  {
   "cell_type": "code",
   "execution_count": 41,
   "metadata": {
    "execution": {
     "iopub.execute_input": "2023-09-21T05:02:11.793203Z",
     "iopub.status.busy": "2023-09-21T05:02:11.792762Z",
     "iopub.status.idle": "2023-09-21T05:02:11.799197Z",
     "shell.execute_reply": "2023-09-21T05:02:11.798130Z",
     "shell.execute_reply.started": "2023-09-21T05:02:11.793168Z"
    }
   },
   "outputs": [
    {
     "name": "stdout",
     "output_type": "stream",
     "text": [
      "(28, 28)\n",
      "(784,)\n"
     ]
    }
   ],
   "source": [
    "# print(image_reshape.shape)\n",
    "# print(datan.shape)"
   ]
  },
  {
   "cell_type": "code",
   "execution_count": 172,
   "metadata": {
    "execution": {
     "iopub.execute_input": "2023-09-21T05:57:44.703004Z",
     "iopub.status.busy": "2023-09-21T05:57:44.702615Z",
     "iopub.status.idle": "2023-09-21T05:57:44.709540Z",
     "shell.execute_reply": "2023-09-21T05:57:44.708465Z",
     "shell.execute_reply.started": "2023-09-21T05:57:44.702973Z"
    }
   },
   "outputs": [
    {
     "name": "stdout",
     "output_type": "stream",
     "text": [
      "(1, 28, 28, 1)\n"
     ]
    }
   ],
   "source": [
    "pixeldata = datan.reshape(-1,28,28,1)\n",
    "print(pixeldata.shape)"
   ]
  },
  {
   "cell_type": "code",
   "execution_count": 154,
   "metadata": {
    "execution": {
     "iopub.execute_input": "2023-09-21T05:55:25.482689Z",
     "iopub.status.busy": "2023-09-21T05:55:25.481929Z",
     "iopub.status.idle": "2023-09-21T05:55:25.490815Z",
     "shell.execute_reply": "2023-09-21T05:55:25.489431Z",
     "shell.execute_reply.started": "2023-09-21T05:55:25.482650Z"
    }
   },
   "outputs": [],
   "source": [
    "# image = cv2.cvtColor(image, cv2.COLOR_BGR2GRAY)\n",
    "\n",
    "# # Normalize the pixel values to the range [0, 1]\n",
    "# image = image / 255.0\n",
    "\n",
    "# # Reshape the image to match the model's input shape (28, 28, 1)\n",
    "# image = np.expand_dims(image, axis=-1)\n",
    "# image = np.expand_dims(image, axis=0) "
   ]
  }
 ],
 "metadata": {
  "kernelspec": {
   "display_name": "Python 3 (ipykernel)",
   "language": "python",
   "name": "python3"
  },
  "language_info": {
   "codemirror_mode": {
    "name": "ipython",
    "version": 3
   },
   "file_extension": ".py",
   "mimetype": "text/x-python",
   "name": "python",
   "nbconvert_exporter": "python",
   "pygments_lexer": "ipython3",
   "version": "3.8.19"
  }
 },
 "nbformat": 4,
 "nbformat_minor": 4
}
